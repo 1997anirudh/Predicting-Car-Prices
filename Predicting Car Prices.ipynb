{
 "cells": [
  {
   "cell_type": "markdown",
   "metadata": {
    "collapsed": true
   },
   "source": [
    "# Predicting Car Prices\n",
    "\n",
    "This project will look to use the basic machine learning algorithms such as K-nearest neighnours algorithm. \n",
    "\n",
    "We will use this to make predictions of the car prices with attributes given in the dataset using 2 different methods namely \n",
    "1. **k-fold cross-validation**\n",
    "2. **holdout validation**\n",
    "\n",
    "Information about the dataset\n",
    "\n",
    "1. symboling: Values range from (-3,+3), -3 indicates the car is safe and +3 indicates the car is risky\n",
    "2. normalized-losses: continuous from 65 to 256.\n",
    "3. make: Brand of the car, eg:- audi, bmw etc:-\n",
    "4. fuel-type: diesel, gas.\n",
    "5. aspiration: std, turbo.\n",
    "6. num-of-doors: four, two.\n",
    "7. body-style: hardtop, wagon, sedan, hatchback, convertible.\n",
    "8. drive-wheels: 4wd, fwd, rwd.\n",
    "9. engine-location: front, rear.\n",
    "10. wheel-base: continuous from 86.6 120.9.\n",
    "11. length: continuous from 141.1 to 208.1.\n",
    "12. width: continuous from 60.3 to 72.3.\n",
    "13. height: continuous from 47.8 to 59.8.\n",
    "14. curb-weight: continuous from 1488 to 4066.\n",
    "15. engine-type: dohc, dohcv, l, ohc, ohcf, ohcv, rotor.\n",
    "16. num-of-cylinders: eight, five, four, six, three, twelve, two.\n",
    "17. engine-size: continuous from 61 to 326.\n",
    "18. fuel-system: 1bbl, 2bbl, 4bbl, idi, mfi, mpfi, spdi, spfi.\n",
    "19. bore: continuous from 2.54 to 3.94.\n",
    "20. stroke: continuous from 2.07 to 4.17.\n",
    "21. compression-ratio: continuous from 7 to 23.\n",
    "22. horsepower: continuous from 48 to 288.\n",
    "23. peak-rpm: continuous from 4150 to 6600.\n",
    "24. city-mpg: continuous from 13 to 49.\n",
    "25. highway-mpg: continuous from 16 to 54.\n",
    "26. price: continuous from 5118 to 45400."
   ]
  },
  {
   "cell_type": "code",
   "execution_count": 1,
   "metadata": {
    "collapsed": false
   },
   "outputs": [
    {
     "data": {
      "text/html": [
       "<div>\n",
       "<style scoped>\n",
       "    .dataframe tbody tr th:only-of-type {\n",
       "        vertical-align: middle;\n",
       "    }\n",
       "\n",
       "    .dataframe tbody tr th {\n",
       "        vertical-align: top;\n",
       "    }\n",
       "\n",
       "    .dataframe thead th {\n",
       "        text-align: right;\n",
       "    }\n",
       "</style>\n",
       "<table border=\"1\" class=\"dataframe\">\n",
       "  <thead>\n",
       "    <tr style=\"text-align: right;\">\n",
       "      <th></th>\n",
       "      <th>symboling</th>\n",
       "      <th>normalized-losses</th>\n",
       "      <th>make</th>\n",
       "      <th>fuel-type</th>\n",
       "      <th>aspiration</th>\n",
       "      <th>num-of-doors</th>\n",
       "      <th>body-style</th>\n",
       "      <th>drive-wheels</th>\n",
       "      <th>engine-location</th>\n",
       "      <th>wheel-base</th>\n",
       "      <th>...</th>\n",
       "      <th>engine-size</th>\n",
       "      <th>fuel-system</th>\n",
       "      <th>bore</th>\n",
       "      <th>stroke</th>\n",
       "      <th>compression-rate</th>\n",
       "      <th>horsepower</th>\n",
       "      <th>peak-rpm</th>\n",
       "      <th>city-mpg</th>\n",
       "      <th>highway-mpg</th>\n",
       "      <th>price</th>\n",
       "    </tr>\n",
       "  </thead>\n",
       "  <tbody>\n",
       "    <tr>\n",
       "      <th>0</th>\n",
       "      <td>3</td>\n",
       "      <td>?</td>\n",
       "      <td>alfa-romero</td>\n",
       "      <td>gas</td>\n",
       "      <td>std</td>\n",
       "      <td>two</td>\n",
       "      <td>convertible</td>\n",
       "      <td>rwd</td>\n",
       "      <td>front</td>\n",
       "      <td>88.6</td>\n",
       "      <td>...</td>\n",
       "      <td>130</td>\n",
       "      <td>mpfi</td>\n",
       "      <td>3.47</td>\n",
       "      <td>2.68</td>\n",
       "      <td>9.0</td>\n",
       "      <td>111</td>\n",
       "      <td>5000</td>\n",
       "      <td>21</td>\n",
       "      <td>27</td>\n",
       "      <td>13495</td>\n",
       "    </tr>\n",
       "    <tr>\n",
       "      <th>1</th>\n",
       "      <td>3</td>\n",
       "      <td>?</td>\n",
       "      <td>alfa-romero</td>\n",
       "      <td>gas</td>\n",
       "      <td>std</td>\n",
       "      <td>two</td>\n",
       "      <td>convertible</td>\n",
       "      <td>rwd</td>\n",
       "      <td>front</td>\n",
       "      <td>88.6</td>\n",
       "      <td>...</td>\n",
       "      <td>130</td>\n",
       "      <td>mpfi</td>\n",
       "      <td>3.47</td>\n",
       "      <td>2.68</td>\n",
       "      <td>9.0</td>\n",
       "      <td>111</td>\n",
       "      <td>5000</td>\n",
       "      <td>21</td>\n",
       "      <td>27</td>\n",
       "      <td>16500</td>\n",
       "    </tr>\n",
       "    <tr>\n",
       "      <th>2</th>\n",
       "      <td>1</td>\n",
       "      <td>?</td>\n",
       "      <td>alfa-romero</td>\n",
       "      <td>gas</td>\n",
       "      <td>std</td>\n",
       "      <td>two</td>\n",
       "      <td>hatchback</td>\n",
       "      <td>rwd</td>\n",
       "      <td>front</td>\n",
       "      <td>94.5</td>\n",
       "      <td>...</td>\n",
       "      <td>152</td>\n",
       "      <td>mpfi</td>\n",
       "      <td>2.68</td>\n",
       "      <td>3.47</td>\n",
       "      <td>9.0</td>\n",
       "      <td>154</td>\n",
       "      <td>5000</td>\n",
       "      <td>19</td>\n",
       "      <td>26</td>\n",
       "      <td>16500</td>\n",
       "    </tr>\n",
       "    <tr>\n",
       "      <th>3</th>\n",
       "      <td>2</td>\n",
       "      <td>164</td>\n",
       "      <td>audi</td>\n",
       "      <td>gas</td>\n",
       "      <td>std</td>\n",
       "      <td>four</td>\n",
       "      <td>sedan</td>\n",
       "      <td>fwd</td>\n",
       "      <td>front</td>\n",
       "      <td>99.8</td>\n",
       "      <td>...</td>\n",
       "      <td>109</td>\n",
       "      <td>mpfi</td>\n",
       "      <td>3.19</td>\n",
       "      <td>3.40</td>\n",
       "      <td>10.0</td>\n",
       "      <td>102</td>\n",
       "      <td>5500</td>\n",
       "      <td>24</td>\n",
       "      <td>30</td>\n",
       "      <td>13950</td>\n",
       "    </tr>\n",
       "    <tr>\n",
       "      <th>4</th>\n",
       "      <td>2</td>\n",
       "      <td>164</td>\n",
       "      <td>audi</td>\n",
       "      <td>gas</td>\n",
       "      <td>std</td>\n",
       "      <td>four</td>\n",
       "      <td>sedan</td>\n",
       "      <td>4wd</td>\n",
       "      <td>front</td>\n",
       "      <td>99.4</td>\n",
       "      <td>...</td>\n",
       "      <td>136</td>\n",
       "      <td>mpfi</td>\n",
       "      <td>3.19</td>\n",
       "      <td>3.40</td>\n",
       "      <td>8.0</td>\n",
       "      <td>115</td>\n",
       "      <td>5500</td>\n",
       "      <td>18</td>\n",
       "      <td>22</td>\n",
       "      <td>17450</td>\n",
       "    </tr>\n",
       "  </tbody>\n",
       "</table>\n",
       "<p>5 rows × 26 columns</p>\n",
       "</div>"
      ],
      "text/plain": [
       "   symboling normalized-losses         make fuel-type aspiration num-of-doors  \\\n",
       "0          3                 ?  alfa-romero       gas        std          two   \n",
       "1          3                 ?  alfa-romero       gas        std          two   \n",
       "2          1                 ?  alfa-romero       gas        std          two   \n",
       "3          2               164         audi       gas        std         four   \n",
       "4          2               164         audi       gas        std         four   \n",
       "\n",
       "    body-style drive-wheels engine-location  wheel-base  ...    engine-size  \\\n",
       "0  convertible          rwd           front        88.6  ...            130   \n",
       "1  convertible          rwd           front        88.6  ...            130   \n",
       "2    hatchback          rwd           front        94.5  ...            152   \n",
       "3        sedan          fwd           front        99.8  ...            109   \n",
       "4        sedan          4wd           front        99.4  ...            136   \n",
       "\n",
       "   fuel-system  bore  stroke compression-rate horsepower  peak-rpm city-mpg  \\\n",
       "0         mpfi  3.47    2.68              9.0        111      5000       21   \n",
       "1         mpfi  3.47    2.68              9.0        111      5000       21   \n",
       "2         mpfi  2.68    3.47              9.0        154      5000       19   \n",
       "3         mpfi  3.19    3.40             10.0        102      5500       24   \n",
       "4         mpfi  3.19    3.40              8.0        115      5500       18   \n",
       "\n",
       "  highway-mpg  price  \n",
       "0          27  13495  \n",
       "1          27  16500  \n",
       "2          26  16500  \n",
       "3          30  13950  \n",
       "4          22  17450  \n",
       "\n",
       "[5 rows x 26 columns]"
      ]
     },
     "execution_count": 1,
     "metadata": {},
     "output_type": "execute_result"
    }
   ],
   "source": [
    "import pandas as pd \n",
    "import numpy as np\n",
    "col_names = ['symboling', 'normalized-losses', 'make', 'fuel-type', 'aspiration', 'num-of-doors', 'body-style', \n",
    "        'drive-wheels', 'engine-location', 'wheel-base', 'length', 'width', 'height', 'curb-weight', 'engine-type', \n",
    "        'num-of-cylinders', 'engine-size', 'fuel-system', 'bore', 'stroke', 'compression-rate', 'horsepower', 'peak-rpm', 'city-mpg', 'highway-mpg', 'price']\n",
    "cars = pd.read_csv('imports-85.data', names=col_names)\n",
    "cars.head()"
   ]
  },
  {
   "cell_type": "markdown",
   "metadata": {},
   "source": [
    "By observing the columns name, we see the some of them haven't been named, we will rename the columns by referring the [dataset's documentation](https://archive.ics.uci.edu/ml/datasets/automobile). \n"
   ]
  },
  {
   "cell_type": "code",
   "execution_count": 2,
   "metadata": {
    "collapsed": false
   },
   "outputs": [],
   "source": [
    "cars = cars.replace(\"?\", np.nan)\n",
    "def norm_doors(door):\n",
    "    if door == \"four\":\n",
    "        return 4\n",
    "    if door == \"two\":\n",
    "        return 2\n",
    "    \n",
    "cars[\"num-of-doors\"] = cars[\"num-of-doors\"].apply(norm_doors)\n"
   ]
  },
  {
   "cell_type": "code",
   "execution_count": 3,
   "metadata": {
    "collapsed": false
   },
   "outputs": [
    {
     "data": {
      "text/plain": [
       "4.0    114\n",
       "2.0     89\n",
       "Name: num-of-doors, dtype: int64"
      ]
     },
     "execution_count": 3,
     "metadata": {},
     "output_type": "execute_result"
    }
   ],
   "source": [
    "cars[\"num-of-doors\"].value_counts()"
   ]
  },
  {
   "cell_type": "code",
   "execution_count": 4,
   "metadata": {
    "collapsed": false
   },
   "outputs": [
    {
     "name": "stdout",
     "output_type": "stream",
     "text": [
      "four      159\n",
      "six        24\n",
      "five       11\n",
      "eight       5\n",
      "two         4\n",
      "twelve      1\n",
      "three       1\n",
      "Name: num-of-cylinders, dtype: int64\n"
     ]
    }
   ],
   "source": [
    "print(cars[\"num-of-cylinders\"].value_counts())\n",
    "def norm_cylinders(cylinders):\n",
    "    if cylinders =='four':\n",
    "        return 4\n",
    "    if cylinders ==\"six\":\n",
    "        return 6 \n",
    "    if cylinders ==\"five\":\n",
    "        return 5\n",
    "    if cylinders ==\"eight\":\n",
    "        return 8 \n",
    "    if cylinders ==\"two\":\n",
    "        return 2 \n",
    "    if cylinders ==\"twelve\":\n",
    "        return 12 \n",
    "    if cylinders ==\"three\":\n",
    "        return 3 \n"
   ]
  },
  {
   "cell_type": "code",
   "execution_count": 5,
   "metadata": {
    "collapsed": false
   },
   "outputs": [],
   "source": [
    "cars[\"num-of-cylinders\"] = cars[\"num-of-cylinders\"].apply(norm_cylinders)"
   ]
  },
  {
   "cell_type": "code",
   "execution_count": 6,
   "metadata": {
    "collapsed": false
   },
   "outputs": [
    {
     "data": {
      "text/plain": [
       "4     159\n",
       "6      24\n",
       "5      11\n",
       "8       5\n",
       "2       4\n",
       "12      1\n",
       "3       1\n",
       "Name: num-of-cylinders, dtype: int64"
      ]
     },
     "execution_count": 6,
     "metadata": {},
     "output_type": "execute_result"
    }
   ],
   "source": [
    "cars[\"num-of-cylinders\"].value_counts()"
   ]
  },
  {
   "cell_type": "code",
   "execution_count": 7,
   "metadata": {
    "collapsed": false
   },
   "outputs": [
    {
     "name": "stdout",
     "output_type": "stream",
     "text": [
      "<class 'pandas.core.frame.DataFrame'>\n",
      "RangeIndex: 205 entries, 0 to 204\n",
      "Data columns (total 26 columns):\n",
      "symboling            205 non-null int64\n",
      "normalized-losses    164 non-null float64\n",
      "make                 205 non-null object\n",
      "fuel-type            205 non-null object\n",
      "aspiration           205 non-null object\n",
      "num-of-doors         203 non-null float64\n",
      "body-style           205 non-null object\n",
      "drive-wheels         205 non-null object\n",
      "engine-location      205 non-null object\n",
      "wheel-base           205 non-null float64\n",
      "length               205 non-null float64\n",
      "width                205 non-null float64\n",
      "height               205 non-null float64\n",
      "curb-weight          205 non-null int64\n",
      "engine-type          205 non-null object\n",
      "num-of-cylinders     205 non-null int64\n",
      "engine-size          205 non-null int64\n",
      "fuel-system          205 non-null object\n",
      "bore                 201 non-null float64\n",
      "stroke               201 non-null float64\n",
      "compression-rate     205 non-null float64\n",
      "horsepower           203 non-null float64\n",
      "peak-rpm             203 non-null float64\n",
      "city-mpg             205 non-null int64\n",
      "highway-mpg          205 non-null int64\n",
      "price                201 non-null float64\n",
      "dtypes: float64(12), int64(6), object(8)\n",
      "memory usage: 41.7+ KB\n",
      "None\n"
     ]
    }
   ],
   "source": [
    "cars[\"horsepower\"] = cars[\"horsepower\"].astype(\"float\")\n",
    "cars[\"peak-rpm\"]= cars[\"peak-rpm\"].astype(\"float\")\n",
    "cars[\"price\"] = cars[\"price\"].astype(\"float\")\n",
    "cars[\"bore\"]= cars[\"bore\"].astype(\"float\")\n",
    "cars[\"stroke\"]= cars[\"stroke\"].astype(\"float\")\n",
    "cars[\"normalized-losses\"]= cars[\"normalized-losses\"].astype(\"float\")\n",
    "print(cars.info())"
   ]
  },
  {
   "cell_type": "code",
   "execution_count": 8,
   "metadata": {
    "collapsed": false
   },
   "outputs": [],
   "source": [
    "numeric_cols = cars.select_dtypes([int, float]).columns\n",
    "numeric_cars = cars[numeric_cols]\n",
    "numeric_cars = numeric_cars.dropna(subset=['price'])"
   ]
  },
  {
   "cell_type": "code",
   "execution_count": 9,
   "metadata": {
    "collapsed": false
   },
   "outputs": [],
   "source": [
    "numeric_cars = numeric_cars.fillna(numeric_cars.mean())"
   ]
  },
  {
   "cell_type": "code",
   "execution_count": 10,
   "metadata": {
    "collapsed": false
   },
   "outputs": [
    {
     "data": {
      "text/html": [
       "<div>\n",
       "<style scoped>\n",
       "    .dataframe tbody tr th:only-of-type {\n",
       "        vertical-align: middle;\n",
       "    }\n",
       "\n",
       "    .dataframe tbody tr th {\n",
       "        vertical-align: top;\n",
       "    }\n",
       "\n",
       "    .dataframe thead th {\n",
       "        text-align: right;\n",
       "    }\n",
       "</style>\n",
       "<table border=\"1\" class=\"dataframe\">\n",
       "  <thead>\n",
       "    <tr style=\"text-align: right;\">\n",
       "      <th></th>\n",
       "      <th>symboling</th>\n",
       "      <th>normalized-losses</th>\n",
       "      <th>num-of-doors</th>\n",
       "      <th>wheel-base</th>\n",
       "      <th>length</th>\n",
       "      <th>width</th>\n",
       "      <th>height</th>\n",
       "      <th>curb-weight</th>\n",
       "      <th>num-of-cylinders</th>\n",
       "      <th>engine-size</th>\n",
       "      <th>bore</th>\n",
       "      <th>stroke</th>\n",
       "      <th>compression-rate</th>\n",
       "      <th>horsepower</th>\n",
       "      <th>peak-rpm</th>\n",
       "      <th>city-mpg</th>\n",
       "      <th>highway-mpg</th>\n",
       "      <th>price</th>\n",
       "    </tr>\n",
       "  </thead>\n",
       "  <tbody>\n",
       "    <tr>\n",
       "      <th>0</th>\n",
       "      <td>3</td>\n",
       "      <td>122.0</td>\n",
       "      <td>2.0</td>\n",
       "      <td>88.6</td>\n",
       "      <td>168.8</td>\n",
       "      <td>64.1</td>\n",
       "      <td>48.8</td>\n",
       "      <td>2548</td>\n",
       "      <td>4</td>\n",
       "      <td>130</td>\n",
       "      <td>3.47</td>\n",
       "      <td>2.68</td>\n",
       "      <td>9.0</td>\n",
       "      <td>111.0</td>\n",
       "      <td>5000.0</td>\n",
       "      <td>21</td>\n",
       "      <td>27</td>\n",
       "      <td>13495.0</td>\n",
       "    </tr>\n",
       "    <tr>\n",
       "      <th>1</th>\n",
       "      <td>3</td>\n",
       "      <td>122.0</td>\n",
       "      <td>2.0</td>\n",
       "      <td>88.6</td>\n",
       "      <td>168.8</td>\n",
       "      <td>64.1</td>\n",
       "      <td>48.8</td>\n",
       "      <td>2548</td>\n",
       "      <td>4</td>\n",
       "      <td>130</td>\n",
       "      <td>3.47</td>\n",
       "      <td>2.68</td>\n",
       "      <td>9.0</td>\n",
       "      <td>111.0</td>\n",
       "      <td>5000.0</td>\n",
       "      <td>21</td>\n",
       "      <td>27</td>\n",
       "      <td>16500.0</td>\n",
       "    </tr>\n",
       "    <tr>\n",
       "      <th>2</th>\n",
       "      <td>1</td>\n",
       "      <td>122.0</td>\n",
       "      <td>2.0</td>\n",
       "      <td>94.5</td>\n",
       "      <td>171.2</td>\n",
       "      <td>65.5</td>\n",
       "      <td>52.4</td>\n",
       "      <td>2823</td>\n",
       "      <td>6</td>\n",
       "      <td>152</td>\n",
       "      <td>2.68</td>\n",
       "      <td>3.47</td>\n",
       "      <td>9.0</td>\n",
       "      <td>154.0</td>\n",
       "      <td>5000.0</td>\n",
       "      <td>19</td>\n",
       "      <td>26</td>\n",
       "      <td>16500.0</td>\n",
       "    </tr>\n",
       "    <tr>\n",
       "      <th>3</th>\n",
       "      <td>2</td>\n",
       "      <td>164.0</td>\n",
       "      <td>4.0</td>\n",
       "      <td>99.8</td>\n",
       "      <td>176.6</td>\n",
       "      <td>66.2</td>\n",
       "      <td>54.3</td>\n",
       "      <td>2337</td>\n",
       "      <td>4</td>\n",
       "      <td>109</td>\n",
       "      <td>3.19</td>\n",
       "      <td>3.40</td>\n",
       "      <td>10.0</td>\n",
       "      <td>102.0</td>\n",
       "      <td>5500.0</td>\n",
       "      <td>24</td>\n",
       "      <td>30</td>\n",
       "      <td>13950.0</td>\n",
       "    </tr>\n",
       "    <tr>\n",
       "      <th>4</th>\n",
       "      <td>2</td>\n",
       "      <td>164.0</td>\n",
       "      <td>4.0</td>\n",
       "      <td>99.4</td>\n",
       "      <td>176.6</td>\n",
       "      <td>66.4</td>\n",
       "      <td>54.3</td>\n",
       "      <td>2824</td>\n",
       "      <td>5</td>\n",
       "      <td>136</td>\n",
       "      <td>3.19</td>\n",
       "      <td>3.40</td>\n",
       "      <td>8.0</td>\n",
       "      <td>115.0</td>\n",
       "      <td>5500.0</td>\n",
       "      <td>18</td>\n",
       "      <td>22</td>\n",
       "      <td>17450.0</td>\n",
       "    </tr>\n",
       "  </tbody>\n",
       "</table>\n",
       "</div>"
      ],
      "text/plain": [
       "   symboling  normalized-losses  num-of-doors  wheel-base  length  width  \\\n",
       "0          3              122.0           2.0        88.6   168.8   64.1   \n",
       "1          3              122.0           2.0        88.6   168.8   64.1   \n",
       "2          1              122.0           2.0        94.5   171.2   65.5   \n",
       "3          2              164.0           4.0        99.8   176.6   66.2   \n",
       "4          2              164.0           4.0        99.4   176.6   66.4   \n",
       "\n",
       "   height  curb-weight  num-of-cylinders  engine-size  bore  stroke  \\\n",
       "0    48.8         2548                 4          130  3.47    2.68   \n",
       "1    48.8         2548                 4          130  3.47    2.68   \n",
       "2    52.4         2823                 6          152  2.68    3.47   \n",
       "3    54.3         2337                 4          109  3.19    3.40   \n",
       "4    54.3         2824                 5          136  3.19    3.40   \n",
       "\n",
       "   compression-rate  horsepower  peak-rpm  city-mpg  highway-mpg    price  \n",
       "0               9.0       111.0    5000.0        21           27  13495.0  \n",
       "1               9.0       111.0    5000.0        21           27  16500.0  \n",
       "2               9.0       154.0    5000.0        19           26  16500.0  \n",
       "3              10.0       102.0    5500.0        24           30  13950.0  \n",
       "4               8.0       115.0    5500.0        18           22  17450.0  "
      ]
     },
     "execution_count": 10,
     "metadata": {},
     "output_type": "execute_result"
    }
   ],
   "source": [
    "numeric_cars.head()"
   ]
  },
  {
   "cell_type": "code",
   "execution_count": 11,
   "metadata": {
    "collapsed": false
   },
   "outputs": [
    {
     "data": {
      "text/html": [
       "<div>\n",
       "<style scoped>\n",
       "    .dataframe tbody tr th:only-of-type {\n",
       "        vertical-align: middle;\n",
       "    }\n",
       "\n",
       "    .dataframe tbody tr th {\n",
       "        vertical-align: top;\n",
       "    }\n",
       "\n",
       "    .dataframe thead th {\n",
       "        text-align: right;\n",
       "    }\n",
       "</style>\n",
       "<table border=\"1\" class=\"dataframe\">\n",
       "  <thead>\n",
       "    <tr style=\"text-align: right;\">\n",
       "      <th></th>\n",
       "      <th>symboling</th>\n",
       "      <th>normalized-losses</th>\n",
       "      <th>num-of-doors</th>\n",
       "      <th>wheel-base</th>\n",
       "      <th>length</th>\n",
       "      <th>width</th>\n",
       "      <th>height</th>\n",
       "      <th>curb-weight</th>\n",
       "      <th>num-of-cylinders</th>\n",
       "      <th>engine-size</th>\n",
       "      <th>bore</th>\n",
       "      <th>stroke</th>\n",
       "      <th>compression-rate</th>\n",
       "      <th>horsepower</th>\n",
       "      <th>peak-rpm</th>\n",
       "      <th>city-mpg</th>\n",
       "      <th>highway-mpg</th>\n",
       "      <th>price</th>\n",
       "    </tr>\n",
       "  </thead>\n",
       "  <tbody>\n",
       "    <tr>\n",
       "      <th>0</th>\n",
       "      <td>1.0</td>\n",
       "      <td>0.298429</td>\n",
       "      <td>0.0</td>\n",
       "      <td>0.058309</td>\n",
       "      <td>0.413433</td>\n",
       "      <td>0.324786</td>\n",
       "      <td>0.083333</td>\n",
       "      <td>0.411171</td>\n",
       "      <td>0.2</td>\n",
       "      <td>0.260377</td>\n",
       "      <td>0.664286</td>\n",
       "      <td>0.290476</td>\n",
       "      <td>0.1250</td>\n",
       "      <td>0.294393</td>\n",
       "      <td>0.346939</td>\n",
       "      <td>0.222222</td>\n",
       "      <td>0.289474</td>\n",
       "      <td>13495.0</td>\n",
       "    </tr>\n",
       "    <tr>\n",
       "      <th>1</th>\n",
       "      <td>1.0</td>\n",
       "      <td>0.298429</td>\n",
       "      <td>0.0</td>\n",
       "      <td>0.058309</td>\n",
       "      <td>0.413433</td>\n",
       "      <td>0.324786</td>\n",
       "      <td>0.083333</td>\n",
       "      <td>0.411171</td>\n",
       "      <td>0.2</td>\n",
       "      <td>0.260377</td>\n",
       "      <td>0.664286</td>\n",
       "      <td>0.290476</td>\n",
       "      <td>0.1250</td>\n",
       "      <td>0.294393</td>\n",
       "      <td>0.346939</td>\n",
       "      <td>0.222222</td>\n",
       "      <td>0.289474</td>\n",
       "      <td>16500.0</td>\n",
       "    </tr>\n",
       "    <tr>\n",
       "      <th>2</th>\n",
       "      <td>0.6</td>\n",
       "      <td>0.298429</td>\n",
       "      <td>0.0</td>\n",
       "      <td>0.230321</td>\n",
       "      <td>0.449254</td>\n",
       "      <td>0.444444</td>\n",
       "      <td>0.383333</td>\n",
       "      <td>0.517843</td>\n",
       "      <td>0.4</td>\n",
       "      <td>0.343396</td>\n",
       "      <td>0.100000</td>\n",
       "      <td>0.666667</td>\n",
       "      <td>0.1250</td>\n",
       "      <td>0.495327</td>\n",
       "      <td>0.346939</td>\n",
       "      <td>0.166667</td>\n",
       "      <td>0.263158</td>\n",
       "      <td>16500.0</td>\n",
       "    </tr>\n",
       "    <tr>\n",
       "      <th>3</th>\n",
       "      <td>0.8</td>\n",
       "      <td>0.518325</td>\n",
       "      <td>1.0</td>\n",
       "      <td>0.384840</td>\n",
       "      <td>0.529851</td>\n",
       "      <td>0.504274</td>\n",
       "      <td>0.541667</td>\n",
       "      <td>0.329325</td>\n",
       "      <td>0.2</td>\n",
       "      <td>0.181132</td>\n",
       "      <td>0.464286</td>\n",
       "      <td>0.633333</td>\n",
       "      <td>0.1875</td>\n",
       "      <td>0.252336</td>\n",
       "      <td>0.551020</td>\n",
       "      <td>0.305556</td>\n",
       "      <td>0.368421</td>\n",
       "      <td>13950.0</td>\n",
       "    </tr>\n",
       "    <tr>\n",
       "      <th>4</th>\n",
       "      <td>0.8</td>\n",
       "      <td>0.518325</td>\n",
       "      <td>1.0</td>\n",
       "      <td>0.373178</td>\n",
       "      <td>0.529851</td>\n",
       "      <td>0.521368</td>\n",
       "      <td>0.541667</td>\n",
       "      <td>0.518231</td>\n",
       "      <td>0.3</td>\n",
       "      <td>0.283019</td>\n",
       "      <td>0.464286</td>\n",
       "      <td>0.633333</td>\n",
       "      <td>0.0625</td>\n",
       "      <td>0.313084</td>\n",
       "      <td>0.551020</td>\n",
       "      <td>0.138889</td>\n",
       "      <td>0.157895</td>\n",
       "      <td>17450.0</td>\n",
       "    </tr>\n",
       "  </tbody>\n",
       "</table>\n",
       "</div>"
      ],
      "text/plain": [
       "   symboling  normalized-losses  num-of-doors  wheel-base    length     width  \\\n",
       "0        1.0           0.298429           0.0    0.058309  0.413433  0.324786   \n",
       "1        1.0           0.298429           0.0    0.058309  0.413433  0.324786   \n",
       "2        0.6           0.298429           0.0    0.230321  0.449254  0.444444   \n",
       "3        0.8           0.518325           1.0    0.384840  0.529851  0.504274   \n",
       "4        0.8           0.518325           1.0    0.373178  0.529851  0.521368   \n",
       "\n",
       "     height  curb-weight  num-of-cylinders  engine-size      bore    stroke  \\\n",
       "0  0.083333     0.411171               0.2     0.260377  0.664286  0.290476   \n",
       "1  0.083333     0.411171               0.2     0.260377  0.664286  0.290476   \n",
       "2  0.383333     0.517843               0.4     0.343396  0.100000  0.666667   \n",
       "3  0.541667     0.329325               0.2     0.181132  0.464286  0.633333   \n",
       "4  0.541667     0.518231               0.3     0.283019  0.464286  0.633333   \n",
       "\n",
       "   compression-rate  horsepower  peak-rpm  city-mpg  highway-mpg    price  \n",
       "0            0.1250    0.294393  0.346939  0.222222     0.289474  13495.0  \n",
       "1            0.1250    0.294393  0.346939  0.222222     0.289474  16500.0  \n",
       "2            0.1250    0.495327  0.346939  0.166667     0.263158  16500.0  \n",
       "3            0.1875    0.252336  0.551020  0.305556     0.368421  13950.0  \n",
       "4            0.0625    0.313084  0.551020  0.138889     0.157895  17450.0  "
      ]
     },
     "execution_count": 11,
     "metadata": {},
     "output_type": "execute_result"
    }
   ],
   "source": [
    "for i in numeric_cars.columns.drop('price'):\n",
    "    numeric_cars[i] = (numeric_cars[i] - min(numeric_cars[i]))/(max(numeric_cars[i]) - min(numeric_cars[i]))\n",
    "numeric_cars.head()"
   ]
  },
  {
   "cell_type": "markdown",
   "metadata": {},
   "source": [
    "Dataset is cleaned and normalized."
   ]
  },
  {
   "cell_type": "code",
   "execution_count": 12,
   "metadata": {
    "collapsed": false
   },
   "outputs": [
    {
     "data": {
      "text/plain": [
       "highway-mpg          4052.878359\n",
       "engine-size          4090.502403\n",
       "curb-weight          4343.055714\n",
       "width                4719.421260\n",
       "city-mpg             4791.196576\n",
       "horsepower           4811.087714\n",
       "num-of-cylinders     5457.987771\n",
       "wheel-base           5490.459308\n",
       "length               5602.328195\n",
       "compression-rate     6337.880729\n",
       "bore                 6542.832622\n",
       "stroke               6712.118363\n",
       "height               6714.428024\n",
       "peak-rpm             6773.708512\n",
       "num-of-doors         8568.630438\n",
       "normalized-losses    8705.352473\n",
       "symboling            8745.045255\n",
       "dtype: float64"
      ]
     },
     "execution_count": 12,
     "metadata": {},
     "output_type": "execute_result"
    }
   ],
   "source": [
    "from sklearn.neighbors import KNeighborsRegressor\n",
    "from sklearn.metrics import mean_squared_error\n",
    "def knn_train_test(df,train_col,target_col):\n",
    "    df = df.sample(frac = 1)\n",
    "    train_set = df[:int(len(df)/2)]\n",
    "    test_set = df[int(len(df)/2):]\n",
    "    knn = KNeighborsRegressor()\n",
    "    knn.fit(train_set[[train_col]],train_set[target_col])\n",
    "    predictions = knn.predict(test_set[[train_col]])\n",
    "    mse = mean_squared_error(predictions, test_set[target_col])\n",
    "    rmse = mse ** 0.5\n",
    "    return rmse\n",
    "cols = {}\n",
    "for i in numeric_cars.columns:\n",
    "    if i!=\"price\":\n",
    "        val = knn_train_test(numeric_cars,i,\"price\")\n",
    "        cols[i] = val\n",
    "sers = pd.Series(cols)\n",
    "def_k_val_features = sers.sort_values()\n",
    "def_k_val_features"
   ]
  },
  {
   "cell_type": "markdown",
   "metadata": {},
   "source": [
    "This is a Univarate holdout model, so we will split the dataset into 2 halves, \n",
    "1. Train\n",
    "2. Test\n",
    "\n",
    "We will use the train dataset to train the algorithm and use the test dataset to test our efficiency by verifying the RMSE(Root Mean Squared Error). \n",
    "\n",
    "We have taken a default K value in the function above(default K value is 5).\n",
    "\n",
    "\n",
    "This is a Multivarate model with different k values.\n",
    "Let us try by using K value = 1,3,5,7,9"
   ]
  },
  {
   "cell_type": "code",
   "execution_count": 13,
   "metadata": {
    "collapsed": false
   },
   "outputs": [
    {
     "data": {
      "text/plain": [
       "{'bore': {1: 6173.386638155625,\n",
       "  3: 6143.483649081737,\n",
       "  5: 6429.764953374545,\n",
       "  7: 6756.596204312863,\n",
       "  9: 6413.3521051336675},\n",
       " 'city-mpg': {1: 5265.802988045688,\n",
       "  3: 3869.1971442734894,\n",
       "  5: 3793.6107846412674,\n",
       "  7: 3970.857403393436,\n",
       "  9: 4064.9738188159604},\n",
       " 'compression-rate': {1: 8692.761431043054,\n",
       "  3: 6638.485317301742,\n",
       "  5: 7177.364790191811,\n",
       "  7: 7158.471270522438,\n",
       "  9: 7658.0644384628895},\n",
       " 'curb-weight': {1: 6082.1847511017495,\n",
       "  3: 4796.470860556918,\n",
       "  5: 4185.229274389627,\n",
       "  7: 3668.671977377022,\n",
       "  9: 3602.408729441217},\n",
       " 'engine-size': {1: 3735.399501478197,\n",
       "  3: 3583.6305729815904,\n",
       "  5: 4031.16703388107,\n",
       "  7: 4472.449563087604,\n",
       "  9: 4482.392033366742},\n",
       " 'height': {1: 10006.480371526373,\n",
       "  3: 8719.682228316366,\n",
       "  5: 8381.722103304886,\n",
       "  7: 8272.341592176917,\n",
       "  9: 8291.614531909741},\n",
       " 'highway-mpg': {1: 6474.144192841473,\n",
       "  3: 4354.262873256154,\n",
       "  5: 3979.307864838848,\n",
       "  7: 4093.6608657156266,\n",
       "  9: 3965.7459294003484},\n",
       " 'horsepower': {1: 3623.9651278019705,\n",
       "  3: 3621.0747688839824,\n",
       "  5: 3832.0349048101284,\n",
       "  7: 4065.1180252116646,\n",
       "  9: 4255.167085202683},\n",
       " 'length': {1: 4058.0995552105423,\n",
       "  3: 4334.155550961917,\n",
       "  5: 4857.578040729987,\n",
       "  7: 5109.540563460715,\n",
       "  9: 5297.67499354621},\n",
       " 'normalized-losses': {1: 8970.1283052073,\n",
       "  3: 8129.477526150423,\n",
       "  5: 8191.573540203033,\n",
       "  7: 7883.663957643673,\n",
       "  9: 8211.550342125951},\n",
       " 'num-of-cylinders': {1: 5592.930873207289,\n",
       "  3: 6285.803417977765,\n",
       "  5: 6164.114403465424,\n",
       "  7: 6088.213343544096,\n",
       "  9: 5950.065371988575},\n",
       " 'num-of-doors': {1: 17393.958089514934,\n",
       "  3: 9881.866785153297,\n",
       "  5: 7820.350278600057,\n",
       "  7: 7332.412235502842,\n",
       "  9: 7372.166908624294},\n",
       " 'peak-rpm': {1: 8319.376012515828,\n",
       "  3: 6832.94863120598,\n",
       "  5: 7428.279948525321,\n",
       "  7: 8121.999919406959,\n",
       "  9: 8323.039419751685},\n",
       " 'stroke': {1: 10597.859592417426,\n",
       "  3: 8171.894226941855,\n",
       "  5: 8400.28828621287,\n",
       "  7: 8443.251432037001,\n",
       "  9: 8285.997831459452},\n",
       " 'symboling': {1: 8604.925242309928,\n",
       "  3: 8279.378728160249,\n",
       "  5: 8127.338577180036,\n",
       "  7: 8495.20447864361,\n",
       "  9: 8318.892946540893},\n",
       " 'wheel-base': {1: 3432.260508472485,\n",
       "  3: 4787.259810115695,\n",
       "  5: 5186.260039415267,\n",
       "  7: 5543.6281873236,\n",
       "  9: 5612.894890752792},\n",
       " 'width': {1: 4298.307936713223,\n",
       "  3: 4796.403886686819,\n",
       "  5: 5037.422801708062,\n",
       "  7: 5060.01678834797,\n",
       "  9: 5243.768056128721}}"
      ]
     },
     "execution_count": 13,
     "metadata": {},
     "output_type": "execute_result"
    }
   ],
   "source": [
    "def knn_train_test_1(df,train_col,target_col):\n",
    "    df = df.sample(frac = 1)\n",
    "    train_set = df[:int(len(df)/2)]\n",
    "    test_set = df[int(len(df)/2):]\n",
    "    k_values = [1,3,5,7,9]\n",
    "    k_rmses = {}\n",
    "    \n",
    "    for k in k_values:\n",
    "       \n",
    "        knn = KNeighborsRegressor(n_neighbors=k)\n",
    "        knn.fit(train_set[[train_col]], train_set[target_col])\n",
    "        predicted_labels = knn.predict(test_set[[train_col]])\n",
    "        mse = mean_squared_error(test_set[target_col], predicted_labels)\n",
    "        rmse = np.sqrt(mse)\n",
    "        k_rmses[k] = rmse\n",
    "    return k_rmses\n",
    "b = { }\n",
    "for i in numeric_cars.columns.drop('price'):\n",
    "    x = knn_train_test_1(numeric_cars,i,\"price\")\n",
    "    b[i] = x\n",
    "b"
   ]
  },
  {
   "cell_type": "code",
   "execution_count": 30,
   "metadata": {
    "collapsed": false
   },
   "outputs": [
    {
     "data": {
      "text/plain": [
       "{2: 4373.151495158149,\n",
       " 3: 4355.068241999802,\n",
       " 4: 4156.900129511494,\n",
       " 5: 4029.8097553306934}"
      ]
     },
     "execution_count": 30,
     "metadata": {},
     "output_type": "execute_result"
    }
   ],
   "source": [
    "def knn_train_test_2(df,train_col,target_col):\n",
    "    df = df.sample(frac = 1)\n",
    "    train_set = df[:int(len(df)/2)]\n",
    "    test_set = df[int(len(df)/2):]\n",
    "    knn = KNeighborsRegressor()\n",
    "    knn.fit(train_set[train_col],train_set[target_col])\n",
    "    predictions = knn.predict(test_set[train_col])\n",
    "    mse = mean_squared_error(predictions, test_set[target_col])\n",
    "    rmse = mse ** 0.5\n",
    "    return rmse\n",
    "mul_feat_norm = {}\n",
    "for i in range(2,6):\n",
    "    n_features = def_k_val_features.index[:i]\n",
    "    n = knn_train_test_2(numeric_cars,n_features,\"price\")\n",
    "    mul_feat_norm[len(n_features)] = n\n",
    "\n",
    "mul_feat_norm"
   ]
  },
  {
   "cell_type": "markdown",
   "metadata": {},
   "source": [
    "These are the RMSE values for a default k value of 5 for the best features.\n",
    "\n",
    "The RMSE values for multiple features  is lower than the RMSE values for a single feature. \n",
    "\n",
    "\n",
    "This is with a deafult K value of 5\n",
    "\n",
    "These are the 5 best features:-\n",
    "1. engine-size          \n",
    "2. horsepower           \n",
    "3. city-mpg             \n",
    "4. width                \n",
    "5. curb-weight      "
   ]
  },
  {
   "cell_type": "code",
   "execution_count": 15,
   "metadata": {
    "collapsed": false
   },
   "outputs": [
    {
     "data": {
      "image/png": "[encoded data removed]",
      "text/plain": [
       "<matplotlib.figure.Figure at 0x7f84aec0bd30>"
      ]
     },
     "metadata": {},
     "output_type": "display_data"
    }
   ],
   "source": [
    "%matplotlib inline\n",
    "import matplotlib.pyplot as plt\n",
    "plt.bar(list(dic.keys()),list(dic.values()))\n",
    "plt.xlabel(\"Number of features\")\n",
    "plt.ylabel(\"RMSE\")\n",
    "plt.xticks([2,3,4,5])\n",
    "plt.show()\n"
   ]
  },
  {
   "cell_type": "markdown",
   "metadata": {},
   "source": [
    "Not really a lot of difference between the rmse values when we take multiple features. Let us make an observation for the same set of features with multiple k values ranging from 1-25."
   ]
  },
  {
   "cell_type": "code",
   "execution_count": 16,
   "metadata": {
    "collapsed": false,
    "scrolled": true
   },
   "outputs": [
    {
     "data": {
      "text/plain": [
       "{2: {1: 3264.461370517954,\n",
       "  2: 3732.5260800319684,\n",
       "  3: 3746.896527602391,\n",
       "  4: 3757.151474995965,\n",
       "  5: 3849.947222526255,\n",
       "  6: 3996.4411855224307,\n",
       "  7: 4229.404249145194,\n",
       "  8: 4167.215469010559,\n",
       "  9: 4248.604704643144,\n",
       "  10: 4407.304945168075,\n",
       "  11: 4537.798765511954,\n",
       "  12: 4698.196769320207,\n",
       "  13: 4859.322708785537,\n",
       "  14: 4977.441071375325,\n",
       "  15: 5067.079749045826,\n",
       "  16: 5128.109786968131,\n",
       "  17: 5205.053731924554,\n",
       "  18: 5275.124238021465,\n",
       "  19: 5380.037086971091,\n",
       "  20: 5426.1331748436305,\n",
       "  21: 5508.990654228626,\n",
       "  22: 5571.1916628405825,\n",
       "  23: 5639.257801687554,\n",
       "  24: 5704.260743400119},\n",
       " 3: {1: 2919.574540074205,\n",
       "  2: 2314.723662484005,\n",
       "  3: 2573.299118687026,\n",
       "  4: 2729.454056316859,\n",
       "  5: 2835.596935216622,\n",
       "  6: 3159.4979948099226,\n",
       "  7: 3231.0302690496496,\n",
       "  8: 3256.7123555513376,\n",
       "  9: 3371.674824093073,\n",
       "  10: 3334.300506526336,\n",
       "  11: 3298.7212402012365,\n",
       "  12: 3304.8179341741434,\n",
       "  13: 3254.1049312832884,\n",
       "  14: 3350.6053030908342,\n",
       "  15: 3371.522006570931,\n",
       "  16: 3494.0949014398043,\n",
       "  17: 3601.9893654351727,\n",
       "  18: 3540.9798799925657,\n",
       "  19: 3511.848339646203,\n",
       "  20: 3557.4500478427017,\n",
       "  21: 3607.506905656378,\n",
       "  22: 3645.554712671303,\n",
       "  23: 3672.327920752709,\n",
       "  24: 3740.6727425420822},\n",
       " 4: {1: 3676.6597854870693,\n",
       "  2: 4392.4939416267525,\n",
       "  3: 4662.604645625462,\n",
       "  4: 4603.93730448071,\n",
       "  5: 4567.44327037773,\n",
       "  6: 4555.100904993815,\n",
       "  7: 4485.906648930827,\n",
       "  8: 4396.724065400403,\n",
       "  9: 4316.3556732370125,\n",
       "  10: 4180.098823574807,\n",
       "  11: 4251.953119113827,\n",
       "  12: 4271.1707917150125,\n",
       "  13: 4337.888701480427,\n",
       "  14: 4400.429873200267,\n",
       "  15: 4468.464391320765,\n",
       "  16: 4540.149008358673,\n",
       "  17: 4556.70623692423,\n",
       "  18: 4609.719212132644,\n",
       "  19: 4698.921182919436,\n",
       "  20: 4679.6389604803435,\n",
       "  21: 4711.631114973731,\n",
       "  22: 4776.058596479268,\n",
       "  23: 4793.404604088525,\n",
       "  24: 4808.770728467934},\n",
       " 5: {1: 3371.832854988544,\n",
       "  2: 3065.4930716407152,\n",
       "  3: 3041.190328812323,\n",
       "  4: 2983.4374046600597,\n",
       "  5: 3163.249341990599,\n",
       "  6: 3256.214259774002,\n",
       "  7: 3216.584049620401,\n",
       "  8: 3274.793340212705,\n",
       "  9: 3347.992924231847,\n",
       "  10: 3491.058510886869,\n",
       "  11: 3604.530720348355,\n",
       "  12: 3665.029033652974,\n",
       "  13: 3707.1554215656784,\n",
       "  14: 3772.0052273209203,\n",
       "  15: 3874.860866370478,\n",
       "  16: 3940.2100952705046,\n",
       "  17: 4017.476006019204,\n",
       "  18: 4057.131011167081,\n",
       "  19: 4097.865571377312,\n",
       "  20: 4184.806317903654,\n",
       "  21: 4260.937715057895,\n",
       "  22: 4313.531079797712,\n",
       "  23: 4360.946577463303,\n",
       "  24: 4364.347309567761}}"
      ]
     },
     "execution_count": 16,
     "metadata": {},
     "output_type": "execute_result"
    }
   ],
   "source": [
    "def knn_train_test_3(df,train_col,target_col):\n",
    "    df = df.sample(frac = 1)\n",
    "    train_set = df[:int(len(df)/2)]\n",
    "    test_set = df[int(len(df)/2):]\n",
    "    k_values = [i for i in range(1, 25)]\n",
    "    k_rmses = {}\n",
    "    \n",
    "    for k in k_values:\n",
    "        # Fit model using k nearest neighbors.\n",
    "        knn = KNeighborsRegressor(n_neighbors=k)\n",
    "        knn.fit(train_set[train_col], train_set[target_col])\n",
    "\n",
    "        # Make predictions using model.\n",
    "        predicted_labels = knn.predict(test_set[train_col])\n",
    "\n",
    "        # Calculate and return RMSE.\n",
    "        mse = mean_squared_error(test_set[target_col], predicted_labels)\n",
    "        rmse = np.sqrt(mse)\n",
    "        \n",
    "        k_rmses[k] = rmse\n",
    "    return k_rmses\n",
    "\n",
    "dic_1 = {}\n",
    "for i in range(2,6):\n",
    "    n_features = def_k_val_features.index[:i]\n",
    "    n = knn_train_test_3(numeric_cars,n_features,\"price\")\n",
    "    dic_1[len(n_features)] = n\n",
    "dic_1    \n"
   ]
  },
  {
   "cell_type": "code",
   "execution_count": 17,
   "metadata": {
    "collapsed": false
   },
   "outputs": [
    {
     "data": {
      "image/png": "[encoded data removed]",
      "text/plain": [
       "<matplotlib.figure.Figure at 0x7f84a47cc390>"
      ]
     },
     "metadata": {},
     "output_type": "display_data"
    },
    {
     "data": {
      "image/png": "[encoded data removed]",
      "text/plain": [
       "<matplotlib.figure.Figure at 0x7f84a23c3e10>"
      ]
     },
     "metadata": {},
     "output_type": "display_data"
    },
    {
     "data": {
      "image/png": "[encoded data removed]",
      "text/plain": [
       "<matplotlib.figure.Figure at 0x7f84a2512320>"
      ]
     },
     "metadata": {},
     "output_type": "display_data"
    },
    {
     "data": {
      "image/png": "[encoded data removed]",
      "text/plain": [
       "<matplotlib.figure.Figure at 0x7f84a22cbc50>"
      ]
     },
     "metadata": {},
     "output_type": "display_data"
    }
   ],
   "source": [
    "%matplotlib inline\n",
    "import matplotlib.pyplot as plt\n",
    "for i in dic_1:\n",
    "    plt.bar(list(dic_1[i].keys()),list(dic_1[i].values()))\n",
    "    plt.title(\"Number of features used is {}\".format(i))\n",
    "    plt.xlabel(\"K values\")\n",
    "    plt.ylabel(\"RMSE\")\n",
    "    plt.show()\n"
   ]
  },
  {
   "cell_type": "markdown",
   "metadata": {},
   "source": [
    "We have ploted the graph for 2,3,4 and 5 features by taking k values over a range of 1-25. \n",
    "\n",
    "- Graph1 - 2 features\n",
    "- Graph2 - 3 features\n",
    "- Graph3 - 3 features\n",
    "- Graph4 - 3 features\n",
    "\n",
    "\n",
    "\n",
    "\n",
    "1. Common conclusion that we can draw from all the 4 graphs is that higher the K value goes, higher the RMSE value. Thus meaning we have to take a lower K value for a more precise model\n",
    "2. Of the 4 graphs, only graphs 1 and 2 (i.e with 2 and 3 features respectievely) have the lowest RMSE values for K values between 1-6.\n",
    "\n",
    "\n",
    "** 2 OR 3 FEATURES WITH A K VALUE OF PREFERBBLY BETWEEN 4-7 WOULD YIELD US THE MOST PRECISE PREDICTION OF THE CAR PRICE**"
   ]
  },
  {
   "cell_type": "code",
   "execution_count": 18,
   "metadata": {
    "collapsed": false
   },
   "outputs": [
    {
     "name": "stderr",
     "output_type": "stream",
     "text": [
      "/dataquest/system/env/python3/lib/python3.4/site-packages/ipykernel/__main__.py:10: SettingWithCopyWarning: \n",
      "A value is trying to be set on a copy of a slice from a DataFrame\n",
      "\n",
      "See the caveats in the documentation: http://pandas.pydata.org/pandas-docs/stable/indexing.html#indexing-view-versus-copy\n",
      "/dataquest/system/env/python3/lib/python3.4/site-packages/ipykernel/__main__.py:11: SettingWithCopyWarning: \n",
      "A value is trying to be set on a copy of a slice from a DataFrame\n",
      "\n",
      "See the caveats in the documentation: http://pandas.pydata.org/pandas-docs/stable/indexing.html#indexing-view-versus-copy\n"
     ]
    },
    {
     "data": {
      "text/plain": [
       "5    41\n",
       "4    40\n",
       "3    40\n",
       "2    40\n",
       "1    40\n",
       "Name: fold, dtype: int64"
      ]
     },
     "execution_count": 18,
     "metadata": {},
     "output_type": "execute_result"
    }
   ],
   "source": [
    "k_fold_cars = numeric_cars\n",
    "k_fold_cars[\"fold\"] = 0\n",
    "\n",
    "# k_fold_cars[\"fold\"][0:40] = 1\n",
    "# k_fold_cars[\"fold\"][40:80] = 2\n",
    "# k_fold_cars[\"fold\"][80:120] = 3\n",
    "# k_fold_cars[\"fold\"][120:160] = 4\n",
    "# k_fold_cars[\"fold\"][160:] = 5\n",
    "for i in range(4):\n",
    "    k_fold_cars[\"fold\"][i*40:(i+1)*40] = i+1\n",
    "k_fold_cars[\"fold\"][160:] = 5\n",
    "k_fold_cars[\"fold\"].value_counts()"
   ]
  },
  {
   "cell_type": "code",
   "execution_count": 19,
   "metadata": {
    "collapsed": false
   },
   "outputs": [],
   "source": [
    "def k_fold_knn_predict(df,train_col,target_col):\n",
    "    k_fold_rmse = [ ]\n",
    "    for i in range(1,6):\n",
    "        train_k_fold = df[df[\"fold\"]!=i]\n",
    "        test_k_fold = df[df[\"fold\"]==i]\n",
    "        knn = KNeighborsRegressor()\n",
    "        knn.fit(train_k_fold[[train_col]],train_k_fold[target_col])\n",
    "        predictions = knn.predict(test_k_fold[[train_col]])\n",
    "        mse = mean_squared_error(predictions, test_k_fold[target_col])\n",
    "        rmse = mse ** 0.5\n",
    "        k_fold_rmse.append(rmse)\n",
    "    mean_rmse = sum(k_fold_rmse)/len(k_fold_rmse)\n",
    "    return mean_rmse"
   ]
  },
  {
   "cell_type": "code",
   "execution_count": 20,
   "metadata": {
    "collapsed": false
   },
   "outputs": [
    {
     "data": {
      "text/plain": [
       "engine-size           4436.445497\n",
       "horsepower            4468.596964\n",
       "highway-mpg           4873.051624\n",
       "city-mpg              4978.234617\n",
       "curb-weight           5143.365608\n",
       "width                 5897.572627\n",
       "compression-rate      6778.202781\n",
       "length                7580.002378\n",
       "num-of-doors          7662.326545\n",
       "num-of-cylinders      7836.558130\n",
       "wheel-base            8077.909862\n",
       "symboling             8251.351687\n",
       "bore                  8429.920548\n",
       "height                9431.417840\n",
       "peak-rpm              9472.128403\n",
       "stroke                9558.937793\n",
       "normalized-losses    10319.870428\n",
       "dtype: float64"
      ]
     },
     "execution_count": 20,
     "metadata": {},
     "output_type": "execute_result"
    }
   ],
   "source": [
    "# k_fold_knn_predict(k_fold_cars,,target_col)\n",
    "k_fold_dic = { }\n",
    "for i in k_fold_cars.columns.drop(['price','fold']):\n",
    "    val = k_fold_knn_predict(k_fold_cars,i,\"price\")\n",
    "    k_fold_dic[i] = val\n",
    "\n",
    "k_fold_ser = pd.Series(k_fold_dic)\n",
    "def_k_fold_features = k_fold_ser.sort_values()\n",
    "def_k_fold_features"
   ]
  },
  {
   "cell_type": "code",
   "execution_count": 21,
   "metadata": {
    "collapsed": false
   },
   "outputs": [],
   "source": [
    "from sklearn.model_selection import cross_val_score, KFold\n",
    "def k_diff_fold_knn_predict(df,train_col,target_col):\n",
    "    num_folds = [4,5,10,15,20]\n",
    "    for fold in num_folds:\n",
    "        kf = KFold(fold, shuffle=True, random_state=1)\n",
    "        model = KNeighborsRegressor()\n",
    "        mses = cross_val_score(model, df[[train_col]], df[target_col], scoring=\"neg_mean_squared_error\", cv=kf)\n",
    "        rmses = np.sqrt(np.absolute(mses))\n",
    "        avg_rmse = np.mean(rmses)\n",
    "    return avg_rmse"
   ]
  },
  {
   "cell_type": "code",
   "execution_count": 22,
   "metadata": {
    "collapsed": false
   },
   "outputs": [],
   "source": [
    "avg = {}\n",
    "for i in k_fold_cars.columns.drop(['price','fold']):\n",
    "    vals_1 = k_diff_fold_knn_predict(k_fold_cars,i,\"price\")\n",
    "    avg[i] = vals_1"
   ]
  },
  {
   "cell_type": "code",
   "execution_count": 23,
   "metadata": {
    "collapsed": false
   },
   "outputs": [
    {
     "data": {
      "text/plain": [
       "engine-size          2986.658115\n",
       "horsepower           3575.380904\n",
       "width                3940.192451\n",
       "highway-mpg          3943.453963\n",
       "curb-weight          3992.474958\n",
       "city-mpg             4096.593822\n",
       "length               5056.619952\n",
       "wheel-base           5519.869651\n",
       "compression-rate     5848.134367\n",
       "bore                 6442.234794\n",
       "normalized-losses    6741.285411\n",
       "height               7231.594248\n",
       "peak-rpm             7399.420791\n",
       "stroke               7574.554139\n",
       "symboling            7673.470802\n",
       "num-of-doors         8237.496213\n",
       "num-of-cylinders     8345.156648\n",
       "dtype: float64"
      ]
     },
     "execution_count": 23,
     "metadata": {},
     "output_type": "execute_result"
    }
   ],
   "source": [
    "avg_sers = pd.Series(avg)\n",
    "avg_k_val_features = avg_sers.sort_values()\n",
    "avg_k_val_features"
   ]
  },
  {
   "cell_type": "markdown",
   "metadata": {},
   "source": [
    "We have only taken 1 feature, so this study is extremely biased(**HIGH**), ideally we would need to have low bias, but this would mean our variance would be high. \n",
    "\n",
    "So we would have a tradeoff here, we will look at the same study with a few more features to reduce the bias and unfortunately increase the variance. \n",
    "\n",
    "From the above study let us take a 2,3,4,5 best features and see how our study holds up. \n",
    "5 best features to base this study off are the following with the default k value:\n",
    "1. engine-size          \n",
    "2. horsepower           \n",
    "3. width                \n",
    "4. highway-mpg          \n",
    "5. curb-weight         "
   ]
  },
  {
   "cell_type": "code",
   "execution_count": 24,
   "metadata": {
    "collapsed": false
   },
   "outputs": [
    {
     "data": {
      "text/plain": [
       "{2: 2681.1790655064788,\n",
       " 3: 2821.041717486002,\n",
       " 4: 2829.686125360334,\n",
       " 5: 2811.005684713027}"
      ]
     },
     "execution_count": 24,
     "metadata": {},
     "output_type": "execute_result"
    }
   ],
   "source": [
    "def knn_multiple_features(df,train_col,target_col):\n",
    "    num_folds = [4,5,10,15,20]\n",
    "    for fold in num_folds:\n",
    "        kf = KFold(fold, shuffle=True, random_state=1)\n",
    "        model = KNeighborsRegressor()\n",
    "        mses = cross_val_score(model, df[train_col], df[target_col], scoring=\"neg_mean_squared_error\", cv=kf)\n",
    "        rmses = np.sqrt(np.absolute(mses))\n",
    "    avg_rmse = np.mean(rmses)\n",
    "    return avg_rmse\n",
    "dic_mul_feat = {}\n",
    "for i in range(2,6):\n",
    "    n_mul_features = avg_k_val_features.index[:i]\n",
    "    n = knn_multiple_features(k_fold_cars,n_mul_features,\"price\")\n",
    "    dic_mul_feat[len(n_mul_features)] = n\n",
    "\n",
    "dic_mul_feat"
   ]
  },
  {
   "cell_type": "markdown",
   "metadata": {},
   "source": [
    "With the k-fold cross-validation, for multiple features we can see that the RMSE values are significantly lower than compared to the handout validation model. \n",
    "\n",
    "Also we can see a clear reduction in RMSE values when we use multiple features that are relevant in comparison to just 1 feature. \n",
    "\n",
    "From all of above analysis, the following features seem like the most relevant features and affect the price of the car.\n",
    "1. engine-size           \n",
    "2. horsepower            \n",
    "3. highway-mpg           \n",
    "4. city-mpg              \n",
    "5. curb-weight\n",
    "\n",
    "\n"
   ]
  }
 ],
 "metadata": {
  "kernelspec": {
   "display_name": "Python 3",
   "language": "python",
   "name": "python3"
  },
  "language_info": {
   "codemirror_mode": {
    "name": "ipython",
    "version": 3
   },
   "file_extension": ".py",
   "mimetype": "text/x-python",
   "name": "python",
   "nbconvert_exporter": "python",
   "pygments_lexer": "ipython3",
   "version": "3.4.3"
  }
 },
 "nbformat": 4,
 "nbformat_minor": 2
}
